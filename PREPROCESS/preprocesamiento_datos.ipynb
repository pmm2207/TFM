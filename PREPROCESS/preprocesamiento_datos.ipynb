{
 "cells": [
  {
   "cell_type": "code",
   "execution_count": 27,
   "metadata": {},
   "outputs": [],
   "source": [
    "# Librerias utilizadas\n",
    "import numpy as np\n",
    "import pandas as pd\n",
    "from datetime import datetime\n",
    "import matplotlib.pyplot as plt\n",
    "from standard_precip.spi import SPI\n",
    "from standard_precip.utils import plot_index\n",
    "from sklearn.preprocessing import MinMaxScaler"
   ]
  },
  {
   "attachments": {},
   "cell_type": "markdown",
   "metadata": {},
   "source": [
    "### Importación de datos"
   ]
  },
  {
   "cell_type": "code",
   "execution_count": 28,
   "metadata": {},
   "outputs": [],
   "source": [
    "csv_names = ['DATOS_CUENCA_MEDITERRANEA_ANDALUZA', 'DATOS_CUENCA_GUADALQUIVIR', 'DATOS_CUENCA_GUADIANA',\n",
    "                      'DATOS_CUENCA_SEGURA', 'DATOS_CUENCA_RIOS_GUADALETE_BARBATE', 'DATOS_CUENCA_RIOS_TINTO_ODIEL_PIEDRAS']\n",
    "path = '..\\\\DATA\\\\'\n",
    "keys_names = ['Demarcación Hidrográfica de las Cuencas Mediterráneas Andaluzas', 'Cuenca hidrográfica del Guadalquivir', 'Cuenca hidrográfica del Guadiana',\n",
    "              'Cuenca hidrográfica del Segura', 'Demarcación Hidrográfica Guadalete-Barbate', 'Demarcación Hidrográfica Tinto, Odiel y Piedras']\n",
    "df_dict = {key: pd.read_csv(path+value+'.csv', sep=';', encoding='ISO-8859-1')\n",
    "           for key, value in zip(keys_names, csv_names)}\n"
   ]
  },
  {
   "cell_type": "code",
   "execution_count": 29,
   "metadata": {},
   "outputs": [
    {
     "data": {
      "text/html": [
       "<div>\n",
       "<style scoped>\n",
       "    .dataframe tbody tr th:only-of-type {\n",
       "        vertical-align: middle;\n",
       "    }\n",
       "\n",
       "    .dataframe tbody tr th {\n",
       "        vertical-align: top;\n",
       "    }\n",
       "\n",
       "    .dataframe thead th {\n",
       "        text-align: right;\n",
       "    }\n",
       "</style>\n",
       "<table border=\"1\" class=\"dataframe\">\n",
       "  <thead>\n",
       "    <tr style=\"text-align: right;\">\n",
       "      <th></th>\n",
       "      <th>Año</th>\n",
       "      <th>Mes</th>\n",
       "      <th>Precipitaciones</th>\n",
       "      <th>ISSP</th>\n",
       "    </tr>\n",
       "  </thead>\n",
       "  <tbody>\n",
       "    <tr>\n",
       "      <th>0</th>\n",
       "      <td>1940</td>\n",
       "      <td>1</td>\n",
       "      <td>121.2300</td>\n",
       "      <td>1.195343</td>\n",
       "    </tr>\n",
       "    <tr>\n",
       "      <th>1</th>\n",
       "      <td>1940</td>\n",
       "      <td>2</td>\n",
       "      <td>54.0225</td>\n",
       "      <td>0.533104</td>\n",
       "    </tr>\n",
       "    <tr>\n",
       "      <th>2</th>\n",
       "      <td>1940</td>\n",
       "      <td>3</td>\n",
       "      <td>50.5694</td>\n",
       "      <td>0.602623</td>\n",
       "    </tr>\n",
       "    <tr>\n",
       "      <th>3</th>\n",
       "      <td>1940</td>\n",
       "      <td>4</td>\n",
       "      <td>11.0414</td>\n",
       "      <td>0.345051</td>\n",
       "    </tr>\n",
       "    <tr>\n",
       "      <th>4</th>\n",
       "      <td>1940</td>\n",
       "      <td>5</td>\n",
       "      <td>16.0715</td>\n",
       "      <td>0.223445</td>\n",
       "    </tr>\n",
       "  </tbody>\n",
       "</table>\n",
       "</div>"
      ],
      "text/plain": [
       "    Año  Mes  Precipitaciones      ISSP\n",
       "0  1940    1         121.2300  1.195343\n",
       "1  1940    2          54.0225  0.533104\n",
       "2  1940    3          50.5694  0.602623\n",
       "3  1940    4          11.0414  0.345051\n",
       "4  1940    5          16.0715  0.223445"
      ]
     },
     "execution_count": 29,
     "metadata": {},
     "output_type": "execute_result"
    }
   ],
   "source": [
    "df_dict[keys_names[0]].head()"
   ]
  },
  {
   "cell_type": "code",
   "execution_count": 30,
   "metadata": {},
   "outputs": [],
   "source": [
    "# Creación columna de fecha\n",
    "def create_datetime_column(df):\n",
    "    df['datetime'] = df.apply(lambda row: datetime(year=int(row['Año']), month=int(row['Mes']), day=1), axis=1)\n",
    "    return df\n",
    "for key, df in df_dict.items():\n",
    "    create_datetime_column(df)\n",
    "\n",
    "df_dict[keys_names[0]].head()"
   ]
  },
  {
   "attachments": {},
   "cell_type": "markdown",
   "metadata": {},
   "source": [
    "### Cáculo SPI"
   ]
  },
  {
   "cell_type": "code",
   "execution_count": 34,
   "metadata": {},
   "outputs": [],
   "source": [
    "# Función que calcula el índice SPI\n",
    "spi = SPI()\n",
    "def calculate_spi(dataframe, escala_temporal):\n",
    "    df_spi = spi.calculate(\n",
    "        dataframe, \n",
    "        'datetime', \n",
    "        'Precipitaciones', \n",
    "        freq=\"M\", \n",
    "        scale=escala_temporal, \n",
    "        fit_type=\"lmom\", \n",
    "        dist_type=\"gam\"\n",
    "        )\n",
    "    return df_spi['Precipitaciones_scale_'+str(escala_temporal)+'_calculated_index']"
   ]
  },
  {
   "cell_type": "code",
   "execution_count": 35,
   "metadata": {},
   "outputs": [],
   "source": [
    "# Cálculo de spi_3, spi_6 y spi_12\n",
    "for key, df in df_dict.items():\n",
    "    df['spi_3'] = calculate_spi(df, 3)\n",
    "    df['spi_6'] = calculate_spi(df, 6)\n",
    "    df['spi_12'] = calculate_spi(df, 12)\n",
    "    \n",
    "df_dict[keys_names[0]].head(12)"
   ]
  },
  {
   "attachments": {},
   "cell_type": "markdown",
   "metadata": {},
   "source": [
    "### Limpieza y transformación"
   ]
  },
  {
   "cell_type": "code",
   "execution_count": 38,
   "metadata": {},
   "outputs": [],
   "source": [
    "# Quitamos columnas, renombramos y ordenamos el dataframe\n",
    "cols_to_remove = ['Año','Mes','Precipitaciones', 'Precipitaciones_scale_3', 'Precipitaciones_scale_6', 'Precipitaciones_scale_12']\n",
    "for key, df in df_dict.items():\n",
    "    df.drop(columns=cols_to_remove, inplace=True)\n",
    "    df_dict[key] = df.rename(columns={'ISSP': 'IESP'})\n",
    "#  Reordenamos en nuevo bucle para evitar problemas en los índices de colmunas\n",
    "for key, df in df_dict.items():\n",
    "    df_dict[key] = df.reindex(columns=['datetime', 'IESP', 'spi_3', 'spi_6', 'spi_12'])  "
   ]
  },
  {
   "cell_type": "code",
   "execution_count": 39,
   "metadata": {},
   "outputs": [],
   "source": [
    "# Normalizacion de datos\n",
    "scaler = MinMaxScaler()\n",
    "for key, df in df_dict.items():\n",
    "    df_dict[key][['IESP', 'spi_3', 'spi_6', 'spi_12']] = scaler.fit_transform(df_dict[key][['IESP', 'spi_3', 'spi_6', 'spi_12']])\n",
    "\n",
    "df_dict[keys_names[0]].head(12)"
   ]
  },
  {
   "attachments": {},
   "cell_type": "markdown",
   "metadata": {},
   "source": [
    "### Exportación datos"
   ]
  },
  {
   "cell_type": "code",
   "execution_count": 40,
   "metadata": {},
   "outputs": [],
   "source": [
    "# Datasets de salida\n",
    "output_csv_names = ['df_DHCMA', 'df_CHG', 'df_CHGUADIANA',\n",
    "            'df_CHS', 'df_DHGB', 'df_DHTOP']\n",
    "key_list = list(df_dict.keys())\n",
    "path = '..\\\\DATA\\\\'\n",
    "for key, df in df_dict.items():\n",
    "    df.to_csv(path + output_csv_names[key_list.index(key)] + '.csv', index=False)"
   ]
  }
 ],
 "metadata": {
  "kernelspec": {
   "display_name": "base",
   "language": "python",
   "name": "python3"
  },
  "language_info": {
   "codemirror_mode": {
    "name": "ipython",
    "version": 3
   },
   "file_extension": ".py",
   "mimetype": "text/x-python",
   "name": "python",
   "nbconvert_exporter": "python",
   "pygments_lexer": "ipython3",
   "version": "3.9.13"
  },
  "orig_nbformat": 4,
  "vscode": {
   "interpreter": {
    "hash": "a4df7a6600e22bae99e6e8f837be5af686fd7a404512ca9c2620376f38fe7d31"
   }
  }
 },
 "nbformat": 4,
 "nbformat_minor": 2
}
